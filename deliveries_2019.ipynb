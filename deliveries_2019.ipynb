{
 "cells": [
  {
   "cell_type": "markdown",
   "metadata": {},
   "source": [
    "Run the sections below if you want to do the google lookups on the original sales data"
   ]
  },
  {
   "cell_type": "code",
   "execution_count": null,
   "metadata": {},
   "outputs": [],
   "source": [
    "# Careful. This costs $$$\n",
    "GOOGLE_API_KEY='GOOGLE_API_KEY'\n",
    "if GOOGLE_API_KEY not in os.environ:\n",
    "    raise Exception(f\"Must set {GOOGLE_API_KEY} environment variable to call Google's APIs.\")"
   ]
  },
  {
   "cell_type": "code",
   "execution_count": null,
   "metadata": {},
   "outputs": [],
   "source": [
    "gmaps = googlemaps.Client(os.environ[GOOGLE_API_KEY])"
   ]
  },
  {
   "cell_type": "code",
   "execution_count": null,
   "metadata": {},
   "outputs": [],
   "source": [
    "customers = pd.read_csv(CUSTOMERS_FILE)\n",
    "customers"
   ]
  },
  {
   "cell_type": "code",
   "execution_count": null,
   "metadata": {},
   "outputs": [],
   "source": [
    "latlong=customers.Address.map(gmaps.geocode)\n",
    "latlong"
   ]
  },
  {
   "cell_type": "code",
   "execution_count": null,
   "metadata": {},
   "outputs": [],
   "source": [
    "#[response for response in latlong] #['geometry']['location']['lat']\n",
    "def get_latlong(response, field):\n",
    "    try:\n",
    "        r = response[0]['geometry']['location'][field]\n",
    "        return(r)\n",
    "    except:\n",
    "        print(\"Error: No Lat/Long Data, returning zero\")\n",
    "        return(None)"
   ]
  },
  {
   "cell_type": "code",
   "execution_count": null,
   "metadata": {},
   "outputs": [],
   "source": [
    "customers['lat'] = [get_latlong(response, 'lat') for response in latlong]\n",
    "customers['lng'] = [get_latlong(response, 'lng') for response in latlong]\n",
    "customers"
   ]
  },
  {
   "cell_type": "code",
   "execution_count": null,
   "metadata": {},
   "outputs": [],
   "source": [
    "import folium\n",
    "\n",
    "def origin_marker(lat, lng):\n",
    "    return folium.Marker(location=[lat, lng],\n",
    "                         icon=folium.Icon(icon='star', color='blue'))\n",
    "\n",
    "def customer_marker(lat, lng, bags):\n",
    "    return folium.Marker(location=[lat, lng],\n",
    "                         tooltip=str(bags),\n",
    "                         icon=folium.Icon(icon='user', color='green'))\n",
    "\n",
    "map = folium.Map(location=[origin_lat, origin_lng], default_zoom_start=17)\n",
    "origin_marker(origin_lat, origin_lng).add_to(map)\n",
    "\n",
    "for _, row in customers.iterrows():\n",
    "    customer_marker(row.lat, row.lng, row.Bags).add_to(map)\n",
    "map"
   ]
  },
  {
   "cell_type": "code",
   "execution_count": null,
   "metadata": {},
   "outputs": [],
   "source": [
    "#We're limited to 25 addresses at a time per the Google Maps API\n",
    "import math\n",
    "addresses = customers.Address\n",
    "response = list()\n",
    "for i in range(math.ceil(len(addresses)/25)):\n",
    "    lookup_addresses = addresses[i*25:(i+1)*25]\n",
    "    gmaps_response = gmaps.distance_matrix(origins=[origin],\n",
    "                                 destinations=lookup_addresses,\n",
    "                                 mode='driving',\n",
    "                                 avoid='tolls')\n",
    "    response.append(gmaps_response)\n"
   ]
  },
  {
   "cell_type": "code",
   "execution_count": null,
   "metadata": {},
   "outputs": [],
   "source": [
    "distances = list()\n",
    "duration = list()\n",
    "for d_set in response:\n",
    "    for d in d_set['rows'][0]['elements']:\n",
    "        if d['status'] == 'OK':\n",
    "            distances.append(d['distance']['value'])\n",
    "            duration.append(d['duration']['value'])\n",
    "        else:\n",
    "            distances.append(None)\n",
    "            duration.append(None)\n",
    "\n",
    "customers['distance'] = distances\n",
    "customers['duration'] = duration"
   ]
  },
  {
   "cell_type": "code",
   "execution_count": null,
   "metadata": {},
   "outputs": [],
   "source": [
    "#Saving Data after Google API lookup so we don't have to keep paying for the API\n",
    "customers.to_csv(DATA_DIRECTORY + 'customer_data_latlong_timedistance.csv')"
   ]
  },
  {
   "cell_type": "markdown",
   "metadata": {},
   "source": [
    "Start here if you don't want to re-run the Google API Lookup"
   ]
  },
  {
   "cell_type": "code",
   "execution_count": 1,
   "metadata": {},
   "outputs": [],
   "source": [
    "import googlemaps\n",
    "import os\n",
    "\n",
    "# Riverbend Church\n",
    "origin = '4214 N Capital of Texas Hwy, Austin, TX 78746'\n",
    "origin_lat = 30.3418005\n",
    "origin_lng = -97.8040886\n",
    "\n",
    "import pandas as pd\n",
    "DATA_DIRECTORY = '/Users/sorensen/Dropbox/Scouts/Mulch_Data_2019/'\n",
    "#NOTE: Before Saving the .csv of Sales, make sure you do the following from the original spreadsheet:\n",
    "#1.  Ensure the Address, Bags, ... fields are formattted correctly\n",
    "#2.  Remove any non-address entries from the \"Address\" column as they are not to be delivered\n",
    "CUSTOMERS_FILE = DATA_DIRECTORY + 'Sales.csv'"
   ]
  },
  {
   "cell_type": "code",
   "execution_count": 2,
   "metadata": {},
   "outputs": [],
   "source": [
    "customers = pd.read_csv(DATA_DIRECTORY + 'customer_data_latlong_timedistance.csv')\n",
    "customers = customers[customers.Bags > 0]\n",
    "vehicles = pd.read_csv(DATA_DIRECTORY + 'Vehicles.csv').sort_values('Capacity', ascending=False)\n",
    "#Initial load will have 137 customers"
   ]
  },
  {
   "cell_type": "code",
   "execution_count": 54,
   "metadata": {},
   "outputs": [],
   "source": [
    "class Scheduler:\n",
    "#Base class for mulch delivery Scheduling\n",
    "    def __init__(self, customer_data, vehicle_data):\n",
    "        self.customers = customer_data\n",
    "        self.vehicles = vehicle_data\n",
    "        \n",
    "    def generate_schedule(self):\n",
    "        return(None)\n",
    "\n",
    "class MS_Scheduler_v1(Scheduler):\n",
    "\n",
    "    def get_first_delivery(self, vehicle_capacity, delivery_data):\n",
    "        available_delivery_data = delivery_data[delivery_data.Bags <= vehicle_capacity].copy()\n",
    "        available_delivery_data['bags_per_second'] = available_delivery_data.Bags/delivery_data.duration\n",
    "        available_delivery_data = available_delivery_data.sort_values('bags_per_second', ascending = False)\n",
    "        available_delivery_data = available_delivery_data.reset_index(drop=True)\n",
    "        #Pick our initial address and remove it from the delivery data\n",
    "        first_delivery = dict(available_delivery_data.iloc[0])\n",
    "        remaining_capacity = vehicle_capacity - first_delivery['Bags']\n",
    "        #remaining_deliveries = delivery_data.drop([0])\n",
    "        #return our first delivery location, the remaining deliveries, and the remaining vehicle capacity\n",
    "        return(first_delivery, remaining_capacity)\n",
    "\n",
    "    def get_next_delivery(self, vehicle_capacity, delivery_data, previous_delivery):\n",
    "        #Remove any over-capacity locations\n",
    "\n",
    "        available_delivery_data = delivery_data[delivery_data.Bags <= vehicle_capacity].copy()\n",
    "        if available_delivery_data.empty:\n",
    "            logging.debug(\"Vehicle at capacity\")\n",
    "            #No deliveries remain that we can accomodate, return None\n",
    "            return(None)\n",
    "\n",
    "        #Figure out the bags per distance\n",
    "        #This is problematic and is generating a warning for setting a value on a copy of a slice\n",
    "        #remaining_deliveries['bags_per_distance'] \n",
    "        available_delivery_data['bags_per_distance'] = (available_delivery_data.Bags/\n",
    "                                              (abs(available_delivery_data.lat - previous_delivery['lat']) + \n",
    "                                               abs(available_delivery_data.lng - previous_delivery['lng'])))\n",
    "        #Idea for the threshold... its bags per distance of going back to origin and taking next largest order\n",
    "        #hard coding this for now... need to fix later\n",
    "        origin_lat = 30.3418005\n",
    "        origin_lng = -97.8040886\n",
    "        bpd_return_to_origin = (self.customers_in_queue.Bags/\n",
    "                                    (abs(previous_delivery['lat'] - origin_lat) +\n",
    "                                      abs(previous_delivery['lng'] - origin_lng) +\n",
    "                                      abs(self.customers_in_queue.lat - origin_lat) +\n",
    "                                      abs(self.customers_in_queue.lng - origin_lng)))\n",
    "\n",
    "        max_bpd_on_return = max(bpd_return_to_origin)\n",
    "        avg_bpd_on_return = (sum(bpd_return_to_origin)/len(bpd_return_to_origin))\n",
    "        logging.debug(\"Max BPD on Return : %s\" % max_bpd_on_return)\n",
    "        logging.debug(\"Min BPD on Return : %s\" % min(bpd_return_to_origin))\n",
    "        logging.debug(\"Avg BPD on Return : %s\" % avg_bpd_on_return)\n",
    "        \n",
    "        available_delivery_data = available_delivery_data.sort_values('bags_per_distance', ascending=False).reset_index(drop=True)\n",
    "\n",
    "        next_delivery = dict(available_delivery_data.iloc[0])\n",
    "        #remaining_deliveries = remaining_deliveries.drop([0])\n",
    "        logging.debug(\"BPD on Next Delivery : \" +str(next_delivery['bags_per_distance']))\n",
    "        if next_delivery['bags_per_distance'] < avg_bpd_on_return:\n",
    "            return(None)\n",
    "        else:\n",
    "            remaining_capacity = vehicle_capacity - next_delivery['Bags']\n",
    "            return(next_delivery, remaining_capacity)\n",
    "\n",
    "    def get_driver_deliveries(self, vehicle_data):\n",
    "        deliveries = list()\n",
    "        logging.debug(\"Delivery Targets at Start : %s\" % self.customers_in_queue.shape[0])\n",
    "        #Get the first delivery from Riverbend\n",
    "        result = self.get_first_delivery(vehicle_data['Capacity'], self.customers_in_queue)    \n",
    "        \n",
    "        if result is None:\n",
    "            #logging.info(\"No More available devlieries for \" + vehicle_data['Driver'])\n",
    "            return(None)\n",
    "        else:\n",
    "            (previous_delivery, remaining_capacity) = result\n",
    "            deliveries.append(previous_delivery)\n",
    "            delivery_index = self.customers_in_queue[self.customers_in_queue.Address == previous_delivery['Address']].index\n",
    "            self.customers_in_queue = self.customers_in_queue.drop(delivery_index)\n",
    "\n",
    "        logging.debug(\"Delivery Targets after First delivery : %s\" % self.customers_in_queue.shape[0])\n",
    "        \n",
    "        #Get the subsequent deliveries\n",
    "        while remaining_capacity > 0:\n",
    "            result = self.get_next_delivery(remaining_capacity, self.customers_in_queue, previous_delivery)\n",
    "            if result is None:\n",
    "                #print(\"No More available devlieries for \" + vehicle_data['Driver'])\n",
    "                return(deliveries)\n",
    "            else:\n",
    "                (previous_delivery, remaining_capacity) = result\n",
    "                deliveries.append(previous_delivery)\n",
    "                delivery_index = self.customers_in_queue[self.customers_in_queue.Address == previous_delivery['Address']].index\n",
    "                self.customers_in_queue = self.customers_in_queue.drop(delivery_index)\n",
    "                logging.debug(\"Delivery Targets after next delivery : %s\" % self.customers_in_queue.shape[0])\n",
    "\n",
    "        return(deliveries)\n",
    "    \n",
    "    def print_delivery_schedule(self, ds): \n",
    "        for k in ds.keys():\n",
    "            print(k)\n",
    "            for l in ds[k]:\n",
    "                print(\"Deliver {Bags} bags to {Customer} @ {Address}\".format(**l))\n",
    "                #print(\"Deliver \" + str(l['Bags']) + ' to ' + 'Customerl['Address'])\n",
    "        return(None)\n",
    "    \n",
    "    def generate_schedule(self):\n",
    "        vehicle_data_sorted = self.vehicles.sort_values('Capacity', ascending = False).copy()\n",
    "        #Copy our customers into an attribute that represents the customers in the queue\n",
    "        self.customers_in_queue = customers.copy()\n",
    "        logging.debug(\"----Starting Schedule Generation-------\")\n",
    "        deliveries = dict()\n",
    "        j = 0\n",
    "        #This is a stupid approach but ultimately works\n",
    "        #Next version, get delivery times and operate this assuming the vehicle order changed up\n",
    "        while not self.customers_in_queue.empty:\n",
    "            j = j + 1\n",
    "            for i in range(vehicle_data_sorted.shape[0]):\n",
    "                if self.customers_in_queue.empty:\n",
    "                    return(deliveries)\n",
    "                deliveries[vehicle_data_sorted.iloc[i].Driver + \"_\" + str(j)] = self.get_driver_deliveries(vehicle_data_sorted.iloc[i])\n",
    "        \n",
    "        return(deliveries)"
   ]
  },
  {
   "cell_type": "code",
   "execution_count": 56,
   "metadata": {},
   "outputs": [],
   "source": [
    "import logging\n",
    "logging.basicConfig(filename='schedule_generation.log',level=logging.DEBUG)\n",
    "\n",
    "customers = pd.read_csv(DATA_DIRECTORY + 'customer_data_latlong_timedistance.csv')\n",
    "customers = customers[customers.Bags > 0]\n",
    "vehicles = pd.read_csv(DATA_DIRECTORY + 'Vehicles.csv').sort_values('Capacity', ascending=False)\n",
    "\n",
    "ms_sched_v1 = MS_Scheduler_v1(customers,vehicles)\n",
    "my_sched_2 = ms_sched_v1.generate_schedule()\n",
    "#print_delivery_schedule(deliveries)"
   ]
  },
  {
   "cell_type": "code",
   "execution_count": 60,
   "metadata": {},
   "outputs": [
    {
     "data": {
      "text/plain": [
       "[{'Unnamed: 0': 110,\n",
       "  'Scout': 'Jack Martin',\n",
       "  'Customer': 'Bonnie Martin',\n",
       "  'Address': \"5905 Hayden's Cove\",\n",
       "  'Zip': 78730.0,\n",
       "  'Bags': 65,\n",
       "  'Paid (Dave)': 325.0,\n",
       "  'Donation only': nan,\n",
       "  'Paid (Dave) Date': '5-Mar',\n",
       "  'Paid (JB)': 'x',\n",
       "  'Paid (JB) Date': '5-Mar',\n",
       "  'Neighborhood': \"near Martin's\",\n",
       "  'Comments': 'Leave pallet in Driveway',\n",
       "  'Out for Delivery': 'JS - Trailer - 10am',\n",
       "  'lat': 30.372656699999997,\n",
       "  'lng': -97.8233257,\n",
       "  'distance': 7663.0,\n",
       "  'duration': 543.0,\n",
       "  'bags_per_second': 0.11970534069981584},\n",
       " {'Unnamed: 0': 109,\n",
       "  'Scout': 'Jack Martin',\n",
       "  'Customer': 'Judy Poranaes',\n",
       "  'Address': \"6000 Maury's Trail\",\n",
       "  'Zip': 78730.0,\n",
       "  'Bags': 20,\n",
       "  'Paid (Dave)': 100.0,\n",
       "  'Donation only': nan,\n",
       "  'Paid (Dave) Date': '5-Mar',\n",
       "  'Paid (JB)': 'x',\n",
       "  'Paid (JB) Date': '5-Mar',\n",
       "  'Neighborhood': \"near Martin's\",\n",
       "  'Comments': 'By basketball goal',\n",
       "  'Out for Delivery': 'AS - trailer - noon',\n",
       "  'lat': 30.373142699999995,\n",
       "  'lng': -97.8241754,\n",
       "  'distance': 8075.0,\n",
       "  'duration': 561.0,\n",
       "  'bags_per_distance': 14973.422175615271},\n",
       " {'Unnamed: 0': 89,\n",
       "  'Scout': 'Liam Kelly',\n",
       "  'Customer': 'Terri Thomas',\n",
       "  'Address': '7625 Waldon Dr',\n",
       "  'Zip': 78750.0,\n",
       "  'Bags': 10,\n",
       "  'Paid (Dave)': 50.0,\n",
       "  'Donation only': nan,\n",
       "  'Paid (Dave) Date': '5-Mar',\n",
       "  'Paid (JB)': 'x',\n",
       "  'Paid (JB) Date': '5-Mar',\n",
       "  'Neighborhood': 'Lakewood',\n",
       "  'Comments': nan,\n",
       "  'Out for Delivery': 'WK - 10:30a',\n",
       "  'lat': 30.378936600000003,\n",
       "  'lng': -97.786775,\n",
       "  'distance': 5449.0,\n",
       "  'duration': 389.0,\n",
       "  'bags_per_distance': 231.51202820740815},\n",
       " {'Unnamed: 0': 36,\n",
       "  'Scout': 'Ken Schumer',\n",
       "  'Customer': 'Sonia Paban',\n",
       "  'Address': '5300 Valburn Circle',\n",
       "  'Zip': 78731.0,\n",
       "  'Bags': 5,\n",
       "  'Paid (Dave)': 25.0,\n",
       "  'Donation only': nan,\n",
       "  'Paid (Dave) Date': '19-Feb',\n",
       "  'Paid (JB)': 'x',\n",
       "  'Paid (JB) Date': '19-Feb',\n",
       "  'Neighborhood': 'NW Hills',\n",
       "  'Comments': 'Front Entrance',\n",
       "  'Out for Delivery': 'Soren - Truck 10:30',\n",
       "  'lat': 30.3740714,\n",
       "  'lng': -97.77531040000001,\n",
       "  'distance': 6263.0,\n",
       "  'duration': 570.0,\n",
       "  'bags_per_distance': 306.1886857156635}]"
      ]
     },
     "execution_count": 60,
     "metadata": {},
     "output_type": "execute_result"
    }
   ],
   "source": [
    "my_sched_2['John Martin_2']"
   ]
  },
  {
   "cell_type": "code",
   "execution_count": 62,
   "metadata": {},
   "outputs": [
    {
     "data": {
      "text/html": [
       "<div style=\"width:100%;\"><div style=\"position:relative;width:100%;height:0;padding-bottom:60%;\"><iframe src=\"data:text/html;charset=utf-8;base64,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\" style=\"position:absolute;width:100%;height:100%;left:0;top:0;border:none !important;\" allowfullscreen webkitallowfullscreen mozallowfullscreen></iframe></div></div>"
      ],
      "text/plain": [
       "<folium.folium.Map at 0x122d72400>"
      ]
     },
     "execution_count": 62,
     "metadata": {},
     "output_type": "execute_result"
    }
   ],
   "source": [
    "import folium\n",
    "\n",
    "def origin_marker(lat, lng):\n",
    "    return folium.Marker(location=[lat, lng],\n",
    "                         icon=folium.Icon(icon='star', color='blue'))\n",
    "\n",
    "def customer_marker(lat, lng, bags):\n",
    "    return folium.Marker(location=[lat, lng],\n",
    "                         tooltip=str(bags),\n",
    "                         icon=folium.Icon(icon='user', color='green'))\n",
    "\n",
    "def delivery_map(deliveries):\n",
    "    delivery_map = folium.Map(location=[origin_lat, origin_lng], default_zoom_start=17)\n",
    "    #origin_marker(origin_lat, origin_lng).add_to(map)\n",
    "\n",
    "    for d in deliveries:\n",
    "        customer_marker(d['lat'], d['lng'], d['Bags']).add_to(delivery_map)\n",
    "    \n",
    "    return(delivery_map)\n",
    "\n",
    "delivery_map(my_sched_2['John Martin_4'])"
   ]
  }
 ],
 "metadata": {
  "kernelspec": {
   "display_name": "Python 3",
   "language": "python",
   "name": "python3"
  },
  "language_info": {
   "codemirror_mode": {
    "name": "ipython",
    "version": 3
   },
   "file_extension": ".py",
   "mimetype": "text/x-python",
   "name": "python",
   "nbconvert_exporter": "python",
   "pygments_lexer": "ipython3",
   "version": "3.7.3"
  }
 },
 "nbformat": 4,
 "nbformat_minor": 4
}
