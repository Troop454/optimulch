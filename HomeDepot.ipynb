{
 "cells": [
  {
   "cell_type": "code",
   "execution_count": 2,
   "metadata": {},
   "outputs": [],
   "source": [
    "import googlemaps\n",
    "# Careful. This costs $$$\n",
    "GOOGLE_API_KEY='GOOGLE_API_KEY'\n",
    "if GOOGLE_API_KEY not in os.environ:\n",
    "    raise Exception(f\"Must set {GOOGLE_API_KEY} environment variable to call Google's APIs.\")"
   ]
  },
  {
   "cell_type": "code",
   "execution_count": 3,
   "metadata": {},
   "outputs": [],
   "source": [
    "import os\n",
    "gmaps = googlemaps.Client(os.environ[GOOGLE_API_KEY])"
   ]
  },
  {
   "cell_type": "code",
   "execution_count": 24,
   "metadata": {},
   "outputs": [],
   "source": [
    "# Riverbend Church\n",
    "origin = '4214 N Capital of Texas Hwy, Austin, TX 78746'\n",
    "origin_lat = 30.3418005\n",
    "origin_lng = -97.8040886"
   ]
  },
  {
   "cell_type": "code",
   "execution_count": 6,
   "metadata": {},
   "outputs": [
    {
     "data": {
      "text/html": [
       "<div>\n",
       "<style scoped>\n",
       "    .dataframe tbody tr th:only-of-type {\n",
       "        vertical-align: middle;\n",
       "    }\n",
       "\n",
       "    .dataframe tbody tr th {\n",
       "        vertical-align: top;\n",
       "    }\n",
       "\n",
       "    .dataframe thead th {\n",
       "        text-align: right;\n",
       "    }\n",
       "</style>\n",
       "<table border=\"1\" class=\"dataframe\">\n",
       "  <thead>\n",
       "    <tr style=\"text-align: right;\">\n",
       "      <th></th>\n",
       "      <th>name</th>\n",
       "      <th>address</th>\n",
       "      <th>bags</th>\n",
       "    </tr>\n",
       "  </thead>\n",
       "  <tbody>\n",
       "    <tr>\n",
       "      <th>0</th>\n",
       "      <td>Mopac</td>\n",
       "      <td>10515 N Mopac Expy, Austin, TX 78759</td>\n",
       "      <td>16</td>\n",
       "    </tr>\n",
       "    <tr>\n",
       "      <th>1</th>\n",
       "      <td>Lake Travis</td>\n",
       "      <td>7900 N FM 620, Austin, TX 78726</td>\n",
       "      <td>39</td>\n",
       "    </tr>\n",
       "    <tr>\n",
       "      <th>2</th>\n",
       "      <td>Lakeline</td>\n",
       "      <td>11301 Lakeline Blvd, Austin, TX 78717</td>\n",
       "      <td>33</td>\n",
       "    </tr>\n",
       "    <tr>\n",
       "      <th>3</th>\n",
       "      <td>Cedar Park</td>\n",
       "      <td>2700 E Whitestone Blvd, Cedar Park, TX 78613</td>\n",
       "      <td>38</td>\n",
       "    </tr>\n",
       "    <tr>\n",
       "      <th>4</th>\n",
       "      <td>Pflugerville</td>\n",
       "      <td>2551 S N Interstate Hwy 35, Round Rock, TX 78664</td>\n",
       "      <td>9</td>\n",
       "    </tr>\n",
       "    <tr>\n",
       "      <th>5</th>\n",
       "      <td>Wells Branch</td>\n",
       "      <td>13309 N Interstate Hwy 35 North, Austin, TX 78753</td>\n",
       "      <td>35</td>\n",
       "    </tr>\n",
       "    <tr>\n",
       "      <th>6</th>\n",
       "      <td>Mueller</td>\n",
       "      <td>1200 Barbara Jordan Blvd Suite 100, Austin, TX...</td>\n",
       "      <td>10</td>\n",
       "    </tr>\n",
       "    <tr>\n",
       "      <th>7</th>\n",
       "      <td>Sunset Valley</td>\n",
       "      <td>1200 Home Depot Blvd, Sunset Valley, TX 78745</td>\n",
       "      <td>26</td>\n",
       "    </tr>\n",
       "    <tr>\n",
       "      <th>8</th>\n",
       "      <td>St. Edwards</td>\n",
       "      <td>3600 S IH 35 Frontage Rd S, Austin, TX 78704</td>\n",
       "      <td>25</td>\n",
       "    </tr>\n",
       "  </tbody>\n",
       "</table>\n",
       "</div>"
      ],
      "text/plain": [
       "            name                                            address  bags\n",
       "0          Mopac               10515 N Mopac Expy, Austin, TX 78759    16\n",
       "1    Lake Travis                    7900 N FM 620, Austin, TX 78726    39\n",
       "2       Lakeline              11301 Lakeline Blvd, Austin, TX 78717    33\n",
       "3     Cedar Park       2700 E Whitestone Blvd, Cedar Park, TX 78613    38\n",
       "4   Pflugerville   2551 S N Interstate Hwy 35, Round Rock, TX 78664     9\n",
       "5   Wells Branch  13309 N Interstate Hwy 35 North, Austin, TX 78753    35\n",
       "6        Mueller  1200 Barbara Jordan Blvd Suite 100, Austin, TX...    10\n",
       "7  Sunset Valley      1200 Home Depot Blvd, Sunset Valley, TX 78745    26\n",
       "8    St. Edwards       3600 S IH 35 Frontage Rd S, Austin, TX 78704    25"
      ]
     },
     "execution_count": 6,
     "metadata": {},
     "output_type": "execute_result"
    }
   ],
   "source": [
    "import pandas as pd\n",
    "customers = pd.read_csv('customers.csv')\n",
    "customers"
   ]
  },
  {
   "cell_type": "code",
   "execution_count": 7,
   "metadata": {},
   "outputs": [
    {
     "data": {
      "text/plain": [
       "0    [{'address_components': [{'long_name': '10515'...\n",
       "1    [{'address_components': [{'long_name': '7900',...\n",
       "2    [{'address_components': [{'long_name': '11301'...\n",
       "3    [{'address_components': [{'long_name': '2700',...\n",
       "4    [{'address_components': [{'long_name': '2551 S...\n",
       "5    [{'address_components': [{'long_name': '13309'...\n",
       "6    [{'address_components': [{'long_name': '100', ...\n",
       "7    [{'address_components': [{'long_name': '1200',...\n",
       "8    [{'address_components': [{'long_name': '3600',...\n",
       "Name: address, dtype: object"
      ]
     },
     "execution_count": 7,
     "metadata": {},
     "output_type": "execute_result"
    }
   ],
   "source": [
    "latlong=customers.address.map(gmaps.geocode)\n",
    "latlong"
   ]
  },
  {
   "cell_type": "code",
   "execution_count": 20,
   "metadata": {},
   "outputs": [
    {
     "data": {
      "text/html": [
       "<div>\n",
       "<style scoped>\n",
       "    .dataframe tbody tr th:only-of-type {\n",
       "        vertical-align: middle;\n",
       "    }\n",
       "\n",
       "    .dataframe tbody tr th {\n",
       "        vertical-align: top;\n",
       "    }\n",
       "\n",
       "    .dataframe thead th {\n",
       "        text-align: right;\n",
       "    }\n",
       "</style>\n",
       "<table border=\"1\" class=\"dataframe\">\n",
       "  <thead>\n",
       "    <tr style=\"text-align: right;\">\n",
       "      <th></th>\n",
       "      <th>name</th>\n",
       "      <th>address</th>\n",
       "      <th>bags</th>\n",
       "      <th>lat</th>\n",
       "      <th>lng</th>\n",
       "    </tr>\n",
       "  </thead>\n",
       "  <tbody>\n",
       "    <tr>\n",
       "      <th>0</th>\n",
       "      <td>Mopac</td>\n",
       "      <td>10515 N Mopac Expy, Austin, TX 78759</td>\n",
       "      <td>16</td>\n",
       "      <td>30.390073</td>\n",
       "      <td>-97.732630</td>\n",
       "    </tr>\n",
       "    <tr>\n",
       "      <th>1</th>\n",
       "      <td>Lake Travis</td>\n",
       "      <td>7900 N FM 620, Austin, TX 78726</td>\n",
       "      <td>39</td>\n",
       "      <td>30.414619</td>\n",
       "      <td>-97.850905</td>\n",
       "    </tr>\n",
       "    <tr>\n",
       "      <th>2</th>\n",
       "      <td>Lakeline</td>\n",
       "      <td>11301 Lakeline Blvd, Austin, TX 78717</td>\n",
       "      <td>33</td>\n",
       "      <td>30.478590</td>\n",
       "      <td>-97.798990</td>\n",
       "    </tr>\n",
       "    <tr>\n",
       "      <th>3</th>\n",
       "      <td>Cedar Park</td>\n",
       "      <td>2700 E Whitestone Blvd, Cedar Park, TX 78613</td>\n",
       "      <td>38</td>\n",
       "      <td>30.531053</td>\n",
       "      <td>-97.788325</td>\n",
       "    </tr>\n",
       "    <tr>\n",
       "      <th>4</th>\n",
       "      <td>Pflugerville</td>\n",
       "      <td>2551 S N Interstate Hwy 35, Round Rock, TX 78664</td>\n",
       "      <td>9</td>\n",
       "      <td>30.485073</td>\n",
       "      <td>-97.673493</td>\n",
       "    </tr>\n",
       "    <tr>\n",
       "      <th>5</th>\n",
       "      <td>Wells Branch</td>\n",
       "      <td>13309 N Interstate Hwy 35 North, Austin, TX 78753</td>\n",
       "      <td>35</td>\n",
       "      <td>30.421818</td>\n",
       "      <td>-97.668922</td>\n",
       "    </tr>\n",
       "    <tr>\n",
       "      <th>6</th>\n",
       "      <td>Mueller</td>\n",
       "      <td>1200 Barbara Jordan Blvd Suite 100, Austin, TX...</td>\n",
       "      <td>10</td>\n",
       "      <td>30.306521</td>\n",
       "      <td>-97.708218</td>\n",
       "    </tr>\n",
       "    <tr>\n",
       "      <th>7</th>\n",
       "      <td>Sunset Valley</td>\n",
       "      <td>1200 Home Depot Blvd, Sunset Valley, TX 78745</td>\n",
       "      <td>26</td>\n",
       "      <td>30.228748</td>\n",
       "      <td>-97.824776</td>\n",
       "    </tr>\n",
       "    <tr>\n",
       "      <th>8</th>\n",
       "      <td>St. Edwards</td>\n",
       "      <td>3600 S IH 35 Frontage Rd S, Austin, TX 78704</td>\n",
       "      <td>25</td>\n",
       "      <td>30.222166</td>\n",
       "      <td>-97.749652</td>\n",
       "    </tr>\n",
       "  </tbody>\n",
       "</table>\n",
       "</div>"
      ],
      "text/plain": [
       "            name                                            address  bags  \\\n",
       "0          Mopac               10515 N Mopac Expy, Austin, TX 78759    16   \n",
       "1    Lake Travis                    7900 N FM 620, Austin, TX 78726    39   \n",
       "2       Lakeline              11301 Lakeline Blvd, Austin, TX 78717    33   \n",
       "3     Cedar Park       2700 E Whitestone Blvd, Cedar Park, TX 78613    38   \n",
       "4   Pflugerville   2551 S N Interstate Hwy 35, Round Rock, TX 78664     9   \n",
       "5   Wells Branch  13309 N Interstate Hwy 35 North, Austin, TX 78753    35   \n",
       "6        Mueller  1200 Barbara Jordan Blvd Suite 100, Austin, TX...    10   \n",
       "7  Sunset Valley      1200 Home Depot Blvd, Sunset Valley, TX 78745    26   \n",
       "8    St. Edwards       3600 S IH 35 Frontage Rd S, Austin, TX 78704    25   \n",
       "\n",
       "         lat        lng  \n",
       "0  30.390073 -97.732630  \n",
       "1  30.414619 -97.850905  \n",
       "2  30.478590 -97.798990  \n",
       "3  30.531053 -97.788325  \n",
       "4  30.485073 -97.673493  \n",
       "5  30.421818 -97.668922  \n",
       "6  30.306521 -97.708218  \n",
       "7  30.228748 -97.824776  \n",
       "8  30.222166 -97.749652  "
      ]
     },
     "execution_count": 20,
     "metadata": {},
     "output_type": "execute_result"
    }
   ],
   "source": [
    "customers['lat'] = [response[0]['geometry']['location']['lat'] for response in latlong]\n",
    "customers['lng'] = [response[0]['geometry']['location']['lng'] for response in latlong]\n",
    "customers"
   ]
  },
  {
   "cell_type": "code",
   "execution_count": 48,
   "metadata": {},
   "outputs": [
    {
     "data": {
      "text/html": [
       "<div style=\"width:100%;\"><div style=\"position:relative;width:100%;height:0;padding-bottom:60%;\"><iframe src=\"data:text/html;charset=utf-8;base64,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\" style=\"position:absolute;width:100%;height:100%;left:0;top:0;border:none !important;\" allowfullscreen webkitallowfullscreen mozallowfullscreen></iframe></div></div>"
      ],
      "text/plain": [
       "<folium.folium.Map at 0x115d87a50>"
      ]
     },
     "execution_count": 48,
     "metadata": {},
     "output_type": "execute_result"
    }
   ],
   "source": [
    "import folium\n",
    "\n",
    "def origin_marker(lat, lng):\n",
    "    return folium.Marker(location=[lat, lng],\n",
    "                         icon=folium.Icon(icon='star', color='blue'))\n",
    "\n",
    "def customer_marker(lat, lng, bags):\n",
    "    return folium.Marker(location=[lat, lng],\n",
    "                         tooltip=str(bags),\n",
    "                         icon=folium.Icon(icon='user', color='green'))\n",
    "\n",
    "map = folium.Map(location=[origin_lat, origin_lng], default_zoom_start=17)\n",
    "origin_marker(origin_lat, origin_lng).add_to(map)\n",
    "\n",
    "for _, row in customers.iterrows():\n",
    "    customer_marker(row.lat, row.lng, row.bags).add_to(map)\n",
    "map"
   ]
  },
  {
   "cell_type": "code",
   "execution_count": 53,
   "metadata": {},
   "outputs": [],
   "source": [
    "response = gmaps.distance_matrix(origins=[origin],\n",
    "                                 destinations=customers.address,\n",
    "                                 mode='driving',\n",
    "                                 avoid='tolls')"
   ]
  },
  {
   "cell_type": "code",
   "execution_count": 54,
   "metadata": {},
   "outputs": [
    {
     "name": "stdout",
     "output_type": "stream",
     "text": [
      "Riverbend to Mopac: 15 mins\n",
      "Riverbend to Lake Travis: 14 mins\n",
      "Riverbend to Lakeline: 17 mins\n",
      "Riverbend to Cedar Park: 29 mins\n",
      "Riverbend to Pflugerville: 25 mins\n",
      "Riverbend to Wells Branch: 22 mins\n",
      "Riverbend to Mueller: 18 mins\n",
      "Riverbend to Sunset Valley: 17 mins\n",
      "Riverbend to St. Edwards: 19 mins\n"
     ]
    }
   ],
   "source": [
    "for dst, el in zip(customers.name, response['rows'][0]['elements']):\n",
    "    print(f\"Riverbend to {dst}: {el['duration']['text']}\")"
   ]
  }
 ],
 "metadata": {
  "kernelspec": {
   "display_name": "Python 3",
   "language": "python",
   "name": "python3"
  },
  "language_info": {
   "codemirror_mode": {
    "name": "ipython",
    "version": 3
   },
   "file_extension": ".py",
   "mimetype": "text/x-python",
   "name": "python",
   "nbconvert_exporter": "python",
   "pygments_lexer": "ipython3",
   "version": "3.7.5"
  }
 },
 "nbformat": 4,
 "nbformat_minor": 4
}
